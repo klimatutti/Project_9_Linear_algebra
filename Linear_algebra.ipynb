{
 "cells": [
  {
   "cell_type": "markdown",
   "metadata": {
    "id": "u-iI8EDbnWje"
   },
   "source": [
    "# Защита персональных данных клиентов"
   ]
  },
  {
   "cell_type": "markdown",
   "metadata": {
    "id": "Ps_UfRWXnWjf"
   },
   "source": [
    "Вам нужно защитить данные клиентов страховой компании «Хоть потоп». Разработайте такой метод преобразования данных, чтобы по ним было сложно восстановить персональную информацию. "
   ]
  },
  {
   "cell_type": "markdown",
   "metadata": {
    "id": "TtA0XmBw_TRf"
   },
   "source": [
    "Первым делом необходимо изучить данные: рассмотрим общую информацию. Далее ответим на вопрос \"Изменится ли качетсво линейной регрессии, если умножить признаки на обратимую матрицу\": ответим на вопрос созданием математического алгоритма, а затем его запрограммируем."
   ]
  },
  {
   "cell_type": "markdown",
   "metadata": {
    "id": "rQJ1AV1PnWjf"
   },
   "source": [
    "## Загрузка данных"
   ]
  },
  {
   "cell_type": "code",
   "execution_count": 1,
   "metadata": {
    "id": "tIMda85Inlqf"
   },
   "outputs": [],
   "source": [
    "import pandas as pd\n",
    "import numpy as np\n",
    "import matplotlib.pyplot as plt\n",
    "import seaborn as sns\n",
    "from sklearn.metrics import r2_score\n",
    "from sklearn.model_selection import train_test_split\n",
    "from sklearn.linear_model import LinearRegression"
   ]
  },
  {
   "cell_type": "code",
   "execution_count": 2,
   "metadata": {
    "id": "1c4hrTW5nWjf"
   },
   "outputs": [],
   "source": [
    "try:\n",
    "    data = pd.read_csv('insurance.csv')\n",
    "except:\n",
    "    data = pd.read_csv('/datasets/insurance.csv')"
   ]
  },
  {
   "cell_type": "markdown",
   "metadata": {
    "id": "YVRACIQG_9Rm"
   },
   "source": [
    "**Рассмотрим общую информацию о датафрейме**"
   ]
  },
  {
   "cell_type": "code",
   "execution_count": 3,
   "metadata": {
    "colab": {
     "base_uri": "https://localhost:8080/"
    },
    "id": "cEONYilen55T",
    "outputId": "ba4e66da-b5ef-4c65-c867-50f4b0343f5c"
   },
   "outputs": [
    {
     "name": "stdout",
     "output_type": "stream",
     "text": [
      "<class 'pandas.core.frame.DataFrame'>\n",
      "RangeIndex: 5000 entries, 0 to 4999\n",
      "Data columns (total 5 columns):\n",
      " #   Column             Non-Null Count  Dtype  \n",
      "---  ------             --------------  -----  \n",
      " 0   Пол                5000 non-null   int64  \n",
      " 1   Возраст            5000 non-null   float64\n",
      " 2   Зарплата           5000 non-null   float64\n",
      " 3   Члены семьи        5000 non-null   int64  \n",
      " 4   Страховые выплаты  5000 non-null   int64  \n",
      "dtypes: float64(2), int64(3)\n",
      "memory usage: 195.4 KB\n"
     ]
    }
   ],
   "source": [
    "data.info()"
   ]
  },
  {
   "cell_type": "code",
   "execution_count": 4,
   "metadata": {
    "colab": {
     "base_uri": "https://localhost:8080/",
     "height": 143
    },
    "id": "QW1sR8yqoCkC",
    "outputId": "bf258eca-99af-44d6-88de-9b518f2f6475"
   },
   "outputs": [
    {
     "data": {
      "text/html": [
       "\n",
       "  <div id=\"df-83196cb9-acf7-4a5a-a877-5aac3c2ae792\">\n",
       "    <div class=\"colab-df-container\">\n",
       "      <div>\n",
       "<style scoped>\n",
       "    .dataframe tbody tr th:only-of-type {\n",
       "        vertical-align: middle;\n",
       "    }\n",
       "\n",
       "    .dataframe tbody tr th {\n",
       "        vertical-align: top;\n",
       "    }\n",
       "\n",
       "    .dataframe thead th {\n",
       "        text-align: right;\n",
       "    }\n",
       "</style>\n",
       "<table border=\"1\" class=\"dataframe\">\n",
       "  <thead>\n",
       "    <tr style=\"text-align: right;\">\n",
       "      <th></th>\n",
       "      <th>Пол</th>\n",
       "      <th>Возраст</th>\n",
       "      <th>Зарплата</th>\n",
       "      <th>Члены семьи</th>\n",
       "      <th>Страховые выплаты</th>\n",
       "    </tr>\n",
       "  </thead>\n",
       "  <tbody>\n",
       "    <tr>\n",
       "      <th>0</th>\n",
       "      <td>1</td>\n",
       "      <td>41.0</td>\n",
       "      <td>49600.0</td>\n",
       "      <td>1</td>\n",
       "      <td>0</td>\n",
       "    </tr>\n",
       "    <tr>\n",
       "      <th>1</th>\n",
       "      <td>0</td>\n",
       "      <td>46.0</td>\n",
       "      <td>38000.0</td>\n",
       "      <td>1</td>\n",
       "      <td>1</td>\n",
       "    </tr>\n",
       "    <tr>\n",
       "      <th>2</th>\n",
       "      <td>0</td>\n",
       "      <td>29.0</td>\n",
       "      <td>21000.0</td>\n",
       "      <td>0</td>\n",
       "      <td>0</td>\n",
       "    </tr>\n",
       "  </tbody>\n",
       "</table>\n",
       "</div>\n",
       "      <button class=\"colab-df-convert\" onclick=\"convertToInteractive('df-83196cb9-acf7-4a5a-a877-5aac3c2ae792')\"\n",
       "              title=\"Convert this dataframe to an interactive table.\"\n",
       "              style=\"display:none;\">\n",
       "        \n",
       "  <svg xmlns=\"http://www.w3.org/2000/svg\" height=\"24px\"viewBox=\"0 0 24 24\"\n",
       "       width=\"24px\">\n",
       "    <path d=\"M0 0h24v24H0V0z\" fill=\"none\"/>\n",
       "    <path d=\"M18.56 5.44l.94 2.06.94-2.06 2.06-.94-2.06-.94-.94-2.06-.94 2.06-2.06.94zm-11 1L8.5 8.5l.94-2.06 2.06-.94-2.06-.94L8.5 2.5l-.94 2.06-2.06.94zm10 10l.94 2.06.94-2.06 2.06-.94-2.06-.94-.94-2.06-.94 2.06-2.06.94z\"/><path d=\"M17.41 7.96l-1.37-1.37c-.4-.4-.92-.59-1.43-.59-.52 0-1.04.2-1.43.59L10.3 9.45l-7.72 7.72c-.78.78-.78 2.05 0 2.83L4 21.41c.39.39.9.59 1.41.59.51 0 1.02-.2 1.41-.59l7.78-7.78 2.81-2.81c.8-.78.8-2.07 0-2.86zM5.41 20L4 18.59l7.72-7.72 1.47 1.35L5.41 20z\"/>\n",
       "  </svg>\n",
       "      </button>\n",
       "      \n",
       "  <style>\n",
       "    .colab-df-container {\n",
       "      display:flex;\n",
       "      flex-wrap:wrap;\n",
       "      gap: 12px;\n",
       "    }\n",
       "\n",
       "    .colab-df-convert {\n",
       "      background-color: #E8F0FE;\n",
       "      border: none;\n",
       "      border-radius: 50%;\n",
       "      cursor: pointer;\n",
       "      display: none;\n",
       "      fill: #1967D2;\n",
       "      height: 32px;\n",
       "      padding: 0 0 0 0;\n",
       "      width: 32px;\n",
       "    }\n",
       "\n",
       "    .colab-df-convert:hover {\n",
       "      background-color: #E2EBFA;\n",
       "      box-shadow: 0px 1px 2px rgba(60, 64, 67, 0.3), 0px 1px 3px 1px rgba(60, 64, 67, 0.15);\n",
       "      fill: #174EA6;\n",
       "    }\n",
       "\n",
       "    [theme=dark] .colab-df-convert {\n",
       "      background-color: #3B4455;\n",
       "      fill: #D2E3FC;\n",
       "    }\n",
       "\n",
       "    [theme=dark] .colab-df-convert:hover {\n",
       "      background-color: #434B5C;\n",
       "      box-shadow: 0px 1px 3px 1px rgba(0, 0, 0, 0.15);\n",
       "      filter: drop-shadow(0px 1px 2px rgba(0, 0, 0, 0.3));\n",
       "      fill: #FFFFFF;\n",
       "    }\n",
       "  </style>\n",
       "\n",
       "      <script>\n",
       "        const buttonEl =\n",
       "          document.querySelector('#df-83196cb9-acf7-4a5a-a877-5aac3c2ae792 button.colab-df-convert');\n",
       "        buttonEl.style.display =\n",
       "          google.colab.kernel.accessAllowed ? 'block' : 'none';\n",
       "\n",
       "        async function convertToInteractive(key) {\n",
       "          const element = document.querySelector('#df-83196cb9-acf7-4a5a-a877-5aac3c2ae792');\n",
       "          const dataTable =\n",
       "            await google.colab.kernel.invokeFunction('convertToInteractive',\n",
       "                                                     [key], {});\n",
       "          if (!dataTable) return;\n",
       "\n",
       "          const docLinkHtml = 'Like what you see? Visit the ' +\n",
       "            '<a target=\"_blank\" href=https://colab.research.google.com/notebooks/data_table.ipynb>data table notebook</a>'\n",
       "            + ' to learn more about interactive tables.';\n",
       "          element.innerHTML = '';\n",
       "          dataTable['output_type'] = 'display_data';\n",
       "          await google.colab.output.renderOutput(dataTable, element);\n",
       "          const docLink = document.createElement('div');\n",
       "          docLink.innerHTML = docLinkHtml;\n",
       "          element.appendChild(docLink);\n",
       "        }\n",
       "      </script>\n",
       "    </div>\n",
       "  </div>\n",
       "  "
      ],
      "text/plain": [
       "   Пол  Возраст  Зарплата  Члены семьи  Страховые выплаты\n",
       "0    1     41.0   49600.0            1                  0\n",
       "1    0     46.0   38000.0            1                  1\n",
       "2    0     29.0   21000.0            0                  0"
      ]
     },
     "execution_count": 4,
     "metadata": {},
     "output_type": "execute_result"
    }
   ],
   "source": [
    "data.head(3)"
   ]
  },
  {
   "cell_type": "markdown",
   "metadata": {
    "id": "CdqXhlpYAC9L"
   },
   "source": [
    "Проблем с данными нет: пропусков не наблюдается. Поменяем тип данных \"Возраста\" на целочисленный."
   ]
  },
  {
   "cell_type": "code",
   "execution_count": 5,
   "metadata": {
    "id": "ybGKxXCdoNmi"
   },
   "outputs": [],
   "source": [
    "data['Возраст'] = data['Возраст'].astype('int')"
   ]
  },
  {
   "cell_type": "code",
   "execution_count": 6,
   "metadata": {
    "colab": {
     "base_uri": "https://localhost:8080/"
    },
    "id": "ODEq9ytBoWEX",
    "outputId": "1d7405ef-2cd5-4b5f-a9e0-02489504b403"
   },
   "outputs": [
    {
     "name": "stdout",
     "output_type": "stream",
     "text": [
      "<class 'pandas.core.frame.DataFrame'>\n",
      "RangeIndex: 5000 entries, 0 to 4999\n",
      "Data columns (total 5 columns):\n",
      " #   Column             Non-Null Count  Dtype  \n",
      "---  ------             --------------  -----  \n",
      " 0   Пол                5000 non-null   int64  \n",
      " 1   Возраст            5000 non-null   int64  \n",
      " 2   Зарплата           5000 non-null   float64\n",
      " 3   Члены семьи        5000 non-null   int64  \n",
      " 4   Страховые выплаты  5000 non-null   int64  \n",
      "dtypes: float64(1), int64(4)\n",
      "memory usage: 195.4 KB\n"
     ]
    }
   ],
   "source": [
    "data.info()"
   ]
  },
  {
   "cell_type": "markdown",
   "metadata": {
    "id": "CgJqN6CsAWH6"
   },
   "source": [
    "Итак, из данных у нас есть признаки: пол, возраст, зарплата, члены семьи и целевой признак: страховые выплаты"
   ]
  },
  {
   "cell_type": "markdown",
   "metadata": {
    "id": "qkHtn8P2nWjg"
   },
   "source": [
    "## Умножение матриц"
   ]
  },
  {
   "cell_type": "markdown",
   "metadata": {
    "id": "R76Rr0rEnWjg"
   },
   "source": [
    "В этом задании вы можете записывать формулы в *Jupyter Notebook.*\n",
    "\n",
    "Чтобы записать формулу внутри текста, окружите её символами доллара \\\\$; если снаружи —  двойными символами \\\\$\\\\$. Эти формулы записываются на языке вёрстки *LaTeX.* \n",
    "\n",
    "Для примера мы записали формулы линейной регрессии. Можете их скопировать и отредактировать, чтобы решить задачу.\n",
    "\n",
    "Работать в *LaTeX* необязательно."
   ]
  },
  {
   "cell_type": "markdown",
   "metadata": {
    "id": "_cXoL8-AnWjh"
   },
   "source": [
    "Обозначения:\n",
    "\n",
    "- $X$ — матрица признаков (нулевой столбец состоит из единиц)\n",
    "\n",
    "- $y$ — вектор целевого признака\n",
    "\n",
    "- $P$ — матрица, на которую умножаются признаки\n",
    "\n",
    "- $w$ — вектор весов линейной регрессии (нулевой элемент равен сдвигу)"
   ]
  },
  {
   "cell_type": "markdown",
   "metadata": {
    "id": "-eI2ENOfnWjh"
   },
   "source": [
    "Предсказания:\n",
    "\n",
    "$$\n",
    "a = Xw\n",
    "$$\n",
    "\n",
    "Задача обучения:\n",
    "\n",
    "$$\n",
    "w = \\arg\\min_w MSE(Xw, y)\n",
    "$$\n",
    "\n",
    "Формула обучения:\n",
    "\n",
    "$$\n",
    "w = (X^T X)^{-1} X^T y\n",
    "$$"
   ]
  },
  {
   "cell_type": "markdown",
   "metadata": {
    "id": "dSgVnaS-AmSN"
   },
   "source": [
    "**Признаки умножают на обратимую матрицу. Изменится ли качество линейной регрессии?**"
   ]
  },
  {
   "cell_type": "markdown",
   "metadata": {
    "id": "EQEVZqHQnWjh"
   },
   "source": [
    "**Ответ:** не изменится\n",
    "\n",
    "\n",
    "**Обоснование:** "
   ]
  },
  {
   "cell_type": "markdown",
   "metadata": {
    "id": "LmGON3DFrm7N"
   },
   "source": [
    "Создадим новую матрицу, домноженную на обратную:\n",
    "\n",
    "$$\n",
    "M = XP\n",
    "$$\n",
    "\n",
    "тогда выражения выше примут следующий вид\n",
    "\n",
    "предсказания:\n",
    "\n",
    "$$\n",
    "a = Mw1\n",
    "$$\n",
    "\n",
    "формула обучения:\n",
    "\n",
    "$$\n",
    "w1 = (M^T M)^{-1} M^T y\n",
    "$$"
   ]
  },
  {
   "cell_type": "markdown",
   "metadata": {
    "id": "UlK8B73trz57"
   },
   "source": [
    "подставим в правую часть уравнения a\n",
    "\n",
    "\n",
    "$$\n",
    "a1 = M(M^T M)^{-1} M^T y\n",
    "$$\n",
    "\n",
    "Подставим значение *M*\n",
    "\n",
    "$$\n",
    "a1 = XP((XP)^T XP)^{-1} XP^T y\n",
    "$$\n",
    "\n",
    "Раскроем $ ((XP)^T XP)^{-1} $ по свойству\n",
    "\n",
    "$$\n",
    "a1 = XP(P^T X^T XP)^{-1} P^T X^T y\n",
    "$$\n",
    "\n",
    "$$\n",
    "a1 = XP(P)^{-1}(X^TX)^{-1}(P^T)^{-1}P^T X^T y\n",
    "$$\n",
    "\n",
    "$ PP^{-1} $ и $ (P^T)^{-1})P^T $ - единичные матрицы\n",
    "\n",
    "$$\n",
    "a1 = XE(X^TX)^{-1}E X^T y\n",
    "$$\n",
    "\n",
    "Видим выражение w:\n",
    "\n",
    "$$\n",
    "(X^TX)^{-1}X^T y\n",
    "$$\n",
    "\n",
    "$$\n",
    "a1 = Xw = a\n",
    "$$"
   ]
  },
  {
   "cell_type": "markdown",
   "metadata": {
    "id": "2Dy140yRr9Ag"
   },
   "source": [
    "**Вывод**\n",
    "\n",
    "Начальная формула вектора предсказаний равна формуле вектора предсказаний, для которого матрицу признаков умножили на обратимую. \n",
    "Качество линейной регрессии не изменится."
   ]
  },
  {
   "cell_type": "markdown",
   "metadata": {
    "id": "_m7CCnZynWji"
   },
   "source": [
    "## Алгоритм преобразования"
   ]
  },
  {
   "cell_type": "markdown",
   "metadata": {
    "id": "H3JXMH0_nWji"
   },
   "source": [
    "**Алгоритм**\n",
    "\n",
    "Основываясь на вычислениях, проведенных выше, умножим матрицу признаков на обратимую матрицу той же размерности. "
   ]
  },
  {
   "cell_type": "markdown",
   "metadata": {
    "id": "bScvFnVZnWji"
   },
   "source": [
    "**Обоснование**\n"
   ]
  },
  {
   "cell_type": "markdown",
   "metadata": {
    "id": "9Ht6etBKBBWD"
   },
   "source": [
    "Отделим признаки и целевой признак"
   ]
  },
  {
   "cell_type": "code",
   "execution_count": 7,
   "metadata": {
    "id": "COhedGxps_jn"
   },
   "outputs": [],
   "source": [
    "features = data.drop(['Страховые выплаты'], axis=1)\n",
    "target = data['Страховые выплаты']"
   ]
  },
  {
   "cell_type": "markdown",
   "metadata": {
    "id": "OLeGJeL6BGI_"
   },
   "source": [
    "Создадим рандомную матрицу такой же размерности"
   ]
  },
  {
   "cell_type": "code",
   "execution_count": 8,
   "metadata": {
    "id": "hpaMrAgPtC4u"
   },
   "outputs": [],
   "source": [
    "random_matrix = np.random.randn(4, 4)"
   ]
  },
  {
   "cell_type": "markdown",
   "metadata": {
    "id": "Mb7zdFcGBcTs"
   },
   "source": [
    "Проверим, есть ли для этой матрицы обратная"
   ]
  },
  {
   "cell_type": "code",
   "execution_count": 9,
   "metadata": {
    "colab": {
     "base_uri": "https://localhost:8080/"
    },
    "id": "1vX8ThoptFFG",
    "outputId": "7d47c76a-d5c5-4905-8c51-d80636997076"
   },
   "outputs": [
    {
     "name": "stdout",
     "output_type": "stream",
     "text": [
      "\n",
      "Обратная матрица к заданной существует\n"
     ]
    }
   ],
   "source": [
    "try:\n",
    "    inversion_matrix = np.linalg.inv(random_matrix)\n",
    "    print('\\nОбратная матрица к заданной существует')\n",
    "except:\n",
    "    print('\\nОбратная матрица к заданной не существует')"
   ]
  },
  {
   "cell_type": "markdown",
   "metadata": {
    "id": "XsDhT425Bg0K"
   },
   "source": [
    "Теперь рассчитаем по заданным формулам значения вектора весов и предсказаний.\n",
    "\n",
    "Сначала найдем значения для исходных данных"
   ]
  },
  {
   "cell_type": "code",
   "execution_count": 10,
   "metadata": {
    "id": "Uxg9-zrLtUJ6"
   },
   "outputs": [],
   "source": [
    "w = np.linalg.inv(features.T.dot(features)).dot(features.T).dot(target)\n",
    "a = features @ w"
   ]
  },
  {
   "cell_type": "markdown",
   "metadata": {
    "id": "IIUMiRjaB8kD"
   },
   "source": [
    "И для новый параметров"
   ]
  },
  {
   "cell_type": "code",
   "execution_count": 11,
   "metadata": {
    "id": "HS5s6sIetpzG"
   },
   "outputs": [],
   "source": [
    "features_new = features @ random_matrix\n",
    "w2 = np.linalg.inv(features_new.T.dot(features_new)).dot(features_new.T).dot(target)\n",
    "a2 = features_new @ w2"
   ]
  },
  {
   "cell_type": "markdown",
   "metadata": {
    "id": "8HmDmJrxCBNB"
   },
   "source": [
    "Посмотрим на разницу между ними"
   ]
  },
  {
   "cell_type": "code",
   "execution_count": 14,
   "metadata": {
    "colab": {
     "base_uri": "https://localhost:8080/"
    },
    "id": "Cxh0_HZ8t0O6",
    "outputId": "caaa285f-af9e-46ab-a7aa-90216fd25f22"
   },
   "outputs": [
    {
     "data": {
      "text/plain": [
       "0.00013404247428511207"
      ]
     },
     "execution_count": 14,
     "metadata": {},
     "output_type": "execute_result"
    }
   ],
   "source": [
    "difference = a - a2\n",
    "difference.sum()"
   ]
  },
  {
   "cell_type": "markdown",
   "metadata": {
    "id": "GYrUh4FnCENw"
   },
   "source": [
    "Разница получилась минимальной - почти ноль."
   ]
  },
  {
   "cell_type": "markdown",
   "metadata": {
    "id": "4mjakASbCO1o"
   },
   "source": [
    "**Вывод**\n",
    "\n",
    "Качество модели не изменится, так как при использовании данного алгоритма различия предсказаний при исходных параметрах и новых минимальны."
   ]
  },
  {
   "cell_type": "markdown",
   "metadata": {
    "id": "T4S7teO6nWji"
   },
   "source": [
    "## Проверка алгоритма"
   ]
  },
  {
   "cell_type": "markdown",
   "metadata": {
    "id": "v6oFiNmsCucs"
   },
   "source": [
    "#### Создадим класс модели линейной регрессии"
   ]
  },
  {
   "cell_type": "code",
   "execution_count": 15,
   "metadata": {
    "id": "YameT-L3uMqw"
   },
   "outputs": [],
   "source": [
    "class ConstantRegression:\n",
    "    def model_fit(self, features, target):\n",
    "        self.model = LinearRegression()\n",
    "        self.model.fit(features, target)\n",
    "        \n",
    "    def predict_result(self, features):\n",
    "        return self.model.predict(features)\n",
    "        \n",
    "    def get_r2_score(self, target, predict):\n",
    "        return r2_score(target, predict) "
   ]
  },
  {
   "cell_type": "markdown",
   "metadata": {
    "id": "Cr_Qf1MBC4ZD"
   },
   "source": [
    "Вычислим результаты метрики R2 для исходных данных."
   ]
  },
  {
   "cell_type": "code",
   "execution_count": 16,
   "metadata": {
    "id": "11j8F47-uahY"
   },
   "outputs": [],
   "source": [
    "model1 = ConstantRegression()\n",
    "model1.model_fit(features, target)\n",
    "predictions = model1.predict_result(features)\n",
    "r2 = model1.get_r2_score(target, predictions)"
   ]
  },
  {
   "cell_type": "markdown",
   "metadata": {
    "id": "Q8ODKtZDC9r0"
   },
   "source": [
    "Вычислим результаты метрики для новых данных (признаки, умноженные на обратимую матрицу)"
   ]
  },
  {
   "cell_type": "code",
   "execution_count": 17,
   "metadata": {
    "id": "PK5D54r7uuaH"
   },
   "outputs": [],
   "source": [
    "model2 = ConstantRegression()\n",
    "model2.model_fit(features_new, target)\n",
    "predictions2 = model2.predict_result(features_new)\n",
    "r2_2 = model2.get_r2_score(target, predictions2)"
   ]
  },
  {
   "cell_type": "code",
   "execution_count": 21,
   "metadata": {
    "colab": {
     "base_uri": "https://localhost:8080/"
    },
    "id": "p5GEvqMAu5J-",
    "outputId": "309a5ee7-6086-4112-ec15-a757431339c3"
   },
   "outputs": [
    {
     "name": "stdout",
     "output_type": "stream",
     "text": [
      "R2 при использовании исходных признаков: 0.42494550286668\n",
      "R2 при использовании признаков, умноженых на обратимую матрицу: 0.42494550286668\n",
      "Разница между метриками: 0.0\n"
     ]
    }
   ],
   "source": [
    "print('R2 при использовании исходных признаков:', r2)\n",
    "print('R2 при использовании признаков, умноженых на обратимую матрицу:', r2_2)\n",
    "print('Разница между метриками:', r2 - r2_2)"
   ]
  },
  {
   "cell_type": "markdown",
   "metadata": {
    "id": "KZTuUkvoDzFP"
   },
   "source": [
    "### Вывод\n",
    "\n",
    "В данном проекте были изучены данные клиентов страховой компании. Проделаны незначительные изменения в типах данных.\n",
    "Далее путем математических преобразований было выяснено, что при умножении признаков на обратимую матрицу, качество модели линейной регрессии не меняется.\n",
    "Данный алгоритм был применен к данным страховой компании и проверен.\n",
    "При умножении признаков на обратную матрицу качество модели не изменилось."
   ]
  }
 ],
 "metadata": {
  "colab": {
   "provenance": []
  },
  "kernelspec": {
   "display_name": "Python 3 (ipykernel)",
   "language": "python",
   "name": "python3"
  },
  "language_info": {
   "codemirror_mode": {
    "name": "ipython",
    "version": 3
   },
   "file_extension": ".py",
   "mimetype": "text/x-python",
   "name": "python",
   "nbconvert_exporter": "python",
   "pygments_lexer": "ipython3",
   "version": "3.9.13"
  },
  "toc": {
   "base_numbering": 1,
   "nav_menu": {},
   "number_sections": true,
   "sideBar": true,
   "skip_h1_title": true,
   "title_cell": "Содержание",
   "title_sidebar": "Contents",
   "toc_cell": true,
   "toc_position": {},
   "toc_section_display": true,
   "toc_window_display": true
  }
 },
 "nbformat": 4,
 "nbformat_minor": 1
}
